{
  "nbformat": 4,
  "nbformat_minor": 0,
  "metadata": {
    "colab": {
      "name": "KMeans_Clustering_UnlabeledData.ipynb",
      "provenance": []
    },
    "kernelspec": {
      "name": "python3",
      "display_name": "Python 3"
    },
    "language_info": {
      "name": "python"
    }
  },
  "cells": [
    {
      "cell_type": "code",
      "metadata": {
        "id": "507ZRxxTHqWQ",
        "colab": {
          "base_uri": "https://localhost:8080/"
        },
        "outputId": "c72cda2b-3c56-47af-fbbe-195950bec71c"
      },
      "source": [
        "# Imports\n",
        "from sklearn.datasets.samples_generator import make_blobs\n",
        "\n",
        "X, _ = make_blobs(n_samples=100, centers=3, n_features=2, cluster_std=0.2, random_state=29)"
      ],
      "execution_count": 1,
      "outputs": [
        {
          "output_type": "stream",
          "name": "stderr",
          "text": [
            "/usr/local/lib/python3.7/dist-packages/sklearn/utils/deprecation.py:144: FutureWarning: The sklearn.datasets.samples_generator module is  deprecated in version 0.22 and will be removed in version 0.24. The corresponding classes / functions should instead be imported from sklearn.datasets. Anything that cannot be imported from sklearn.datasets is now part of the private API.\n",
            "  warnings.warn(message, FutureWarning)\n"
          ]
        }
      ]
    },
    {
      "cell_type": "markdown",
      "metadata": {
        "id": "yLvwnRKTHwcW"
      },
      "source": [
        "2. Basic Data Visualization"
      ]
    },
    {
      "cell_type": "code",
      "metadata": {
        "colab": {
          "base_uri": "https://localhost:8080/",
          "height": 282
        },
        "id": "mkBkjZfKHyL3",
        "outputId": "be0734b1-85ae-424f-f812-c273cef4c444"
      },
      "source": [
        "# Scatter plot of the data points\n",
        "import matplotlib.pyplot as plt\n",
        "%matplotlib inline\n",
        "\n",
        "plt.scatter(X[:, 0], X[:, -1])\n",
        "plt.xlabel('X Coordinates')\n",
        "plt.ylabel('Y Coordinates')\n",
        "plt.show()"
      ],
      "execution_count": 2,
      "outputs": [
        {
          "output_type": "display_data",
          "data": {
            "image/png": "[encoded data removed]",
            "text/plain": [
              "<Figure size 432x288 with 1 Axes>"
            ]
          },
          "metadata": {
            "needs_background": "light"
          }
        }
      ]
    },
    {
      "cell_type": "markdown",
      "metadata": {
        "id": "G-QuU0MnH2Xv"
      },
      "source": [
        "3. Using scikit-learn to perform K-Means clustering"
      ]
    },
    {
      "cell_type": "code",
      "metadata": {
        "id": "SIeQKkmHH4SI"
      },
      "source": [
        "# Using scikit-learn to perform K-Means clustering\n",
        "from sklearn.cluster import KMeans\n",
        "\n",
        "# Specify the number of clusters (3) and fit the data X\n",
        "kmeans = KMeans(n_clusters=3, random_state=29).fit(X)"
      ],
      "execution_count": 3,
      "outputs": []
    },
    {
      "cell_type": "markdown",
      "metadata": {
        "id": "kWNZKS6KH7Ff"
      },
      "source": [
        "4. Visualize and evaluate the results"
      ]
    },
    {
      "cell_type": "code",
      "metadata": {
        "colab": {
          "base_uri": "https://localhost:8080/"
        },
        "id": "LNqQiFyDH9pf",
        "outputId": "e8a2ec7e-2d06-43a1-a246-31234d92493c"
      },
      "source": [
        "# Get the cluster centroids\n",
        "kmeans.cluster_centers_"
      ],
      "execution_count": 4,
      "outputs": [
        {
          "output_type": "execute_result",
          "data": {
            "text/plain": [
              "array([[-0.95268779,  0.82353534],\n",
              "       [ 7.28724828, -4.31084417],\n",
              "       [-8.51138322,  5.28376712]])"
            ]
          },
          "metadata": {},
          "execution_count": 4
        }
      ]
    },
    {
      "cell_type": "code",
      "metadata": {
        "colab": {
          "base_uri": "https://localhost:8080/"
        },
        "id": "CwJZX7aFH_wX",
        "outputId": "d453a4ef-b325-4964-d4b8-21d14a47777b"
      },
      "source": [
        "# Get the cluster labels\n",
        "kmeans.labels_"
      ],
      "execution_count": 5,
      "outputs": [
        {
          "output_type": "execute_result",
          "data": {
            "text/plain": [
              "array([1, 0, 1, 0, 1, 2, 0, 2, 1, 0, 1, 0, 0, 0, 0, 0, 2, 1, 2, 0, 1, 1,\n",
              "       1, 0, 1, 2, 0, 1, 0, 2, 0, 0, 2, 0, 2, 0, 2, 0, 2, 0, 1, 2, 0, 2,\n",
              "       2, 2, 1, 0, 2, 0, 0, 0, 0, 1, 1, 1, 1, 1, 2, 1, 2, 2, 0, 0, 1, 2,\n",
              "       2, 1, 0, 2, 1, 2, 1, 1, 2, 1, 2, 1, 1, 1, 2, 0, 1, 1, 0, 2, 2, 2,\n",
              "       1, 1, 0, 0, 2, 2, 2, 1, 2, 2, 1, 0], dtype=int32)"
            ]
          },
          "metadata": {},
          "execution_count": 5
        }
      ]
    },
    {
      "cell_type": "code",
      "metadata": {
        "colab": {
          "base_uri": "https://localhost:8080/",
          "height": 281
        },
        "id": "9WAXi-KgIB9n",
        "outputId": "857d7550-981f-4c78-bdb1-7c4d4315820a"
      },
      "source": [
        "# Plotting the cluster centers and the data points on a 2D plane\n",
        "plt.scatter(X[:, 0], X[:, -1], c='orange', marker='*')\n",
        "plt.scatter(kmeans.cluster_centers_[:, 0], kmeans.cluster_centers_[:, 1], c='green', marker='+')\n",
        "plt.title('Data points and cluster centroids')\n",
        "plt.show()"
      ],
      "execution_count": 6,
      "outputs": [
        {
          "output_type": "display_data",
          "data": {
            "image/png": "[encoded data removed]",
            "text/plain": [
              "<Figure size 432x288 with 1 Axes>"
            ]
          },
          "metadata": {
            "needs_background": "light"
          }
        }
      ]
    },
    {
      "cell_type": "code",
      "metadata": {
        "colab": {
          "base_uri": "https://localhost:8080/"
        },
        "id": "83pAKootImJI",
        "outputId": "90475166-5ec4-4d5c-dff5-df62e342213e"
      },
      "source": [
        "# Calculate silhouette_score\n",
        "from sklearn.metrics import silhouette_score\n",
        "\n",
        "print(silhouette_score(X, kmeans.labels_))"
      ],
      "execution_count": 7,
      "outputs": [
        {
          "output_type": "stream",
          "name": "stdout",
          "text": [
            "0.9614023564869868\n"
          ]
        }
      ]
    },
    {
      "cell_type": "markdown",
      "metadata": {
        "id": "J0oFSPlrIp2I"
      },
      "source": [
        "6. Determining the value of K using silhouette_score"
      ]
    },
    {
      "cell_type": "code",
      "metadata": {
        "colab": {
          "base_uri": "https://localhost:8080/",
          "height": 430
        },
        "id": "TJiXVz_cIr0Y",
        "outputId": "c2ce6dda-856c-440e-9b04-62f0075feee8"
      },
      "source": [
        "# Import the KElbowVisualizer method\n",
        "from yellowbrick.cluster import KElbowVisualizer\n",
        "\n",
        "# Instantiate a scikit-learn K-Means model\n",
        "model = KMeans(random_state=29)\n",
        "\n",
        "# Instantiate the KElbowVisualizer with the number of clusters and the metric\n",
        "visualizer = KElbowVisualizer(model, k=(2,6), metric='silhouette',timings=False)\n",
        "\n",
        "# Fit the data and visualize\n",
        "visualizer.fit(X)\n",
        "visualizer.poof()"
      ],
      "execution_count": 8,
      "outputs": [
        {
          "output_type": "stream",
          "name": "stderr",
          "text": [
            "/usr/local/lib/python3.7/dist-packages/sklearn/utils/deprecation.py:144: FutureWarning: The sklearn.metrics.classification module is  deprecated in version 0.22 and will be removed in version 0.24. The corresponding classes / functions should instead be imported from sklearn.metrics. Anything that cannot be imported from sklearn.metrics is now part of the private API.\n",
            "  warnings.warn(message, FutureWarning)\n"
          ]
        },
        {
          "output_type": "display_data",
          "data": {
            "image/png": "[encoded data removed]",
            "text/plain": [
              "<Figure size 576x396 with 1 Axes>"
            ]
          },
          "metadata": {}
        }
      ]
    }
  ]
}