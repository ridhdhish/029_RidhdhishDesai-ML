{
  "nbformat": 4,
  "nbformat_minor": 0,
  "metadata": {
    "colab": {
      "name": "KMeans_Clustering_BreastCancer.ipynb",
      "provenance": []
    },
    "kernelspec": {
      "name": "python3",
      "display_name": "Python 3"
    },
    "language_info": {
      "name": "python"
    }
  },
  "cells": [
    {
      "cell_type": "markdown",
      "metadata": {
        "id": "bJTjaM75DPmE"
      },
      "source": [
        "## Write a python program to perform K-Means clustering on Breast Cancer Data"
      ]
    },
    {
      "cell_type": "code",
      "metadata": {
        "id": "Y9eI8rV7DSBD"
      },
      "source": [
        "import numpy as np \n",
        "import pandas as pd \n",
        "from sklearn import datasets\n",
        "from sklearn.cluster import KMeans\n",
        "from sklearn.metrics import accuracy_score, confusion_matrix\n",
        "import matplotlib.pyplot as plt"
      ],
      "execution_count": 1,
      "outputs": []
    },
    {
      "cell_type": "code",
      "metadata": {
        "colab": {
          "base_uri": "https://localhost:8080/"
        },
        "id": "-xHOOElmDTeb",
        "outputId": "16f0770b-7ca1-4da6-ed1a-db978ffe2b26"
      },
      "source": [
        "dataset=datasets.load_breast_cancer()\n",
        "dataset\n",
        "\n",
        "print(dataset.data.shape)\n",
        "print(dataset.target.shape)"
      ],
      "execution_count": 2,
      "outputs": [
        {
          "output_type": "stream",
          "name": "stdout",
          "text": [
            "(569, 30)\n",
            "(569,)\n"
          ]
        }
      ]
    },
    {
      "cell_type": "code",
      "metadata": {
        "colab": {
          "base_uri": "https://localhost:8080/"
        },
        "id": "LQGvakurDU7r",
        "outputId": "06257f9c-128a-4def-e823-2b6f3131bbaa"
      },
      "source": [
        "print(dataset.feature_names)"
      ],
      "execution_count": 3,
      "outputs": [
        {
          "output_type": "stream",
          "name": "stdout",
          "text": [
            "['mean radius' 'mean texture' 'mean perimeter' 'mean area'\n",
            " 'mean smoothness' 'mean compactness' 'mean concavity'\n",
            " 'mean concave points' 'mean symmetry' 'mean fractal dimension'\n",
            " 'radius error' 'texture error' 'perimeter error' 'area error'\n",
            " 'smoothness error' 'compactness error' 'concavity error'\n",
            " 'concave points error' 'symmetry error' 'fractal dimension error'\n",
            " 'worst radius' 'worst texture' 'worst perimeter' 'worst area'\n",
            " 'worst smoothness' 'worst compactness' 'worst concavity'\n",
            " 'worst concave points' 'worst symmetry' 'worst fractal dimension']\n"
          ]
        }
      ]
    },
    {
      "cell_type": "code",
      "metadata": {
        "colab": {
          "base_uri": "https://localhost:8080/"
        },
        "id": "yqZPwWdJDWQb",
        "outputId": "ddea84b3-1379-48c4-e0a5-c830f4506d26"
      },
      "source": [
        "print(dataset.target_names)"
      ],
      "execution_count": 4,
      "outputs": [
        {
          "output_type": "stream",
          "name": "stdout",
          "text": [
            "['malignant' 'benign']\n"
          ]
        }
      ]
    },
    {
      "cell_type": "code",
      "metadata": {
        "colab": {
          "base_uri": "https://localhost:8080/",
          "height": 279
        },
        "id": "YKLUqJoyDYFD",
        "outputId": "12fc5e19-7b7c-4b86-9670-9f8e82ce06f8"
      },
      "source": [
        "# 0 for benign and 1 for malignant\n",
        "\n",
        "plt.scatter(dataset.data[:, 0], dataset.target, c='orange', marker='*')\n",
        "plt.xlabel('Features')\n",
        "plt.ylabel('Type of Cancer')\n",
        "plt.show()"
      ],
      "execution_count": 5,
      "outputs": [
        {
          "output_type": "display_data",
          "data": {
            "image/png": "[encoded data removed]",
            "text/plain": [
              "<Figure size 432x288 with 1 Axes>"
            ]
          },
          "metadata": {
            "needs_background": "light"
          }
        }
      ]
    },
    {
      "cell_type": "code",
      "metadata": {
        "colab": {
          "base_uri": "https://localhost:8080/"
        },
        "id": "nPxnLAgpDczz",
        "outputId": "8342d9a2-b4f2-41fd-c28e-c7f3b68ce3a1"
      },
      "source": [
        "kmeans = KMeans(n_clusters=7, random_state=29)\n",
        "prediction = kmeans.fit_predict(dataset.data)\n",
        "print(prediction)"
      ],
      "execution_count": 6,
      "outputs": [
        {
          "output_type": "stream",
          "name": "stdout",
          "text": [
            "[1 1 4 6 4 6 4 0 6 6 5 5 5 0 6 0 5 5 1 6 6 3 0 1 1 5 0 5 5 5 4 0 5 4 5 5 0\n",
            " 6 0 6 0 3 4 0 6 4 3 6 6 6 6 6 6 5 0 3 1 0 6 3 3 3 0 3 0 0 3 3 3 6 4 3 4 0\n",
            " 6 5 6 4 4 6 6 6 2 5 6 4 0 4 6 0 0 0 0 6 0 4 6 3 6 0 0 3 6 3 3 0 6 6 1 3 3\n",
            " 6 0 3 3 6 3 0 5 5 3 4 1 0 6 6 0 4 0 4 6 5 5 0 4 6 6 3 0 3 3 5 3 6 3 6 6 0\n",
            " 0 6 6 3 3 3 6 6 5 5 6 3 6 4 1 6 1 0 3 5 4 0 6 0 5 3 3 3 3 0 6 6 2 1 5 3 0\n",
            " 3 5 6 3 6 0 6 3 6 0 6 0 5 4 0 6 5 1 0 6 0 3 5 6 0 4 6 2 5 0 0 6 3 1 1 6 6\n",
            " 3 5 6 0 3 0 6 6 5 3 3 1 3 6 2 4 0 5 6 6 3 6 4 3 6 6 3 3 1 3 1 5 1 0 1 0 5\n",
            " 0 4 5 5 0 5 2 3 6 6 3 6 3 1 3 5 3 3 5 6 6 4 6 4 0 6 6 6 6 3 3 0 0 6 6 6 6\n",
            " 3 6 0 3 1 6 4 3 3 3 6 3 6 6 3 0 6 3 3 6 6 4 3 6 3 4 6 1 6 6 0 6 5 0 5 6 3\n",
            " 3 6 5 6 4 3 2 0 3 3 4 6 3 6 0 3 6 6 0 2 0 3 6 6 6 3 3 6 6 6 0 6 4 4 6 2 1\n",
            " 5 0 4 1 6 0 3 6 6 3 3 3 6 6 6 0 6 0 3 5 3 3 5 1 6 6 6 6 3 6 5 6 6 6 6 3 0\n",
            " 6 5 6 6 3 3 0 0 6 3 4 6 3 6 0 3 6 3 3 3 3 3 6 0 6 4 4 0 0 6 0 0 6 3 5 6 3\n",
            " 5 6 5 0 0 1 6 4 6 0 6 6 6 6 6 3 4 2 0 3 6 6 6 3 5 6 3 6 0 6 3 6 0 6 3 0 6\n",
            " 0 6 6 0 6 0 4 6 5 6 5 5 6 6 0 6 6 4 4 0 0 6 2 3 3 6 3 0 0 3 0 0 0 0 3 4 4\n",
            " 6 6 3 2 3 6 3 3 6 6 6 6 6 6 0 4 3 4 0 3 3 3 3 0 0 6 6 6 3 3 3 3 3 3 6 3 6\n",
            " 3 3 3 0 3 6 3 0 4 1 4 5 4 3]\n"
          ]
        }
      ]
    },
    {
      "cell_type": "code",
      "metadata": {
        "colab": {
          "base_uri": "https://localhost:8080/"
        },
        "id": "ysFYKizDDeX8",
        "outputId": "92d680f5-c233-4826-8057-dd6a634628b0"
      },
      "source": [
        "kmeans.cluster_centers_.shape\n",
        "print(kmeans.cluster_centers_)"
      ],
      "execution_count": 7,
      "outputs": [
        {
          "output_type": "stream",
          "name": "stdout",
          "text": [
            "[[1.46545714e+01 1.96167619e+01 9.57589524e+01 6.64457143e+02\n",
            "  9.73886667e-02 1.16843905e-01 1.01685905e-01 5.44353048e-02\n",
            "  1.82445714e-01 6.25719048e-02 3.64198095e-01 1.09764952e+00\n",
            "  2.61652381e+00 3.28205714e+01 6.21715238e-03 2.77464476e-02\n",
            "  3.45237714e-02 1.27225333e-02 1.92705524e-02 3.76264571e-03\n",
            "  1.67706667e+01 2.64486667e+01 1.11415238e+02 8.62890476e+02\n",
            "  1.33973143e-01 3.04078000e-01 3.34199143e-01 1.34143238e-01\n",
            "  2.98683810e-01 8.71415238e-02]\n",
            " [2.06370370e+01 2.16944444e+01 1.37140741e+02 1.33298519e+03\n",
            "  1.05146296e-01 1.66082963e-01 2.13644444e-01 1.17845556e-01\n",
            "  1.94903704e-01 6.13200000e-02 8.25648148e-01 1.12337778e+00\n",
            "  5.75433333e+00 1.11170000e+02 6.60281481e-03 3.48644444e-02\n",
            "  4.73696296e-02 1.57370370e-02 1.87700000e-02 4.05755556e-03\n",
            "  2.62940741e+01 2.91481481e+01 1.75992593e+02 2.12474074e+03\n",
            "  1.46185185e-01 4.09985185e-01 5.37144444e-01 2.22266667e-01\n",
            "  3.22714815e-01 9.06803704e-02]\n",
            " [2.45981818e+01 2.27290909e+01 1.64181818e+02 1.91300000e+03\n",
            "  1.03649091e-01 1.70829091e-01 2.47209091e-01 1.43200909e-01\n",
            "  1.81654545e-01 5.87154545e-02 1.35242727e+00 1.16268182e+00\n",
            "  9.72090909e+00 2.30309091e+02 6.71336364e-03 3.14645455e-02\n",
            "  4.31036364e-02 1.60718182e-02 1.93036364e-02 3.54445455e-03\n",
            "  3.14572727e+01 2.99572727e+01 2.12781818e+02 3.05581818e+03\n",
            "  1.39772727e-01 3.70072727e-01 4.88136364e-01 2.31190909e-01\n",
            "  2.75718182e-01 8.03945455e-02]\n",
            " [1.03554000e+01 1.78704444e+01 6.62887407e+01 3.30835556e+02\n",
            "  9.57749630e-02 7.99492593e-02 4.51093681e-02 2.06685185e-02\n",
            "  1.81264444e-01 6.66965926e-02 2.84392593e-01 1.43038593e+00\n",
            "  1.97211778e+00 1.80684519e+01 9.08735556e-03 2.40969111e-02\n",
            "  3.05678570e-02 1.00769630e-02 2.37940741e-02 4.44711852e-03\n",
            "  1.13863630e+01 2.34357778e+01 7.36892593e+01 3.98189630e+02\n",
            "  1.31491556e-01 1.73767926e-01 1.53953578e-01 6.11321481e-02\n",
            "  2.76305185e-01 8.38474074e-02]\n",
            " [1.93304000e+01 2.18666000e+01 1.27704000e+02 1.16244000e+03\n",
            "  1.00130400e-01 1.46810000e-01 1.72858400e-01 9.79644000e-02\n",
            "  1.93584000e-01 6.02716000e-02 7.01468000e-01 1.22631800e+00\n",
            "  4.90694000e+00 8.50508000e+01 6.69096000e-03 3.24586000e-02\n",
            "  4.38970000e-02 1.60523200e-02 2.17172000e-02 3.87178000e-03\n",
            "  2.32956000e+01 2.89760000e+01 1.55636000e+02 1.65350000e+03\n",
            "  1.39260000e-01 3.59008000e-01 4.49706000e-01 1.87610000e-01\n",
            "  3.17270000e-01 8.56706000e-02]\n",
            " [1.70392857e+01 2.11112500e+01 1.12048929e+02 9.05921429e+02\n",
            "  9.90483929e-02 1.28726429e-01 1.34324821e-01 7.76108929e-02\n",
            "  1.87710714e-01 6.06508929e-02 5.44832143e-01 1.25258036e+00\n",
            "  3.89548214e+00 5.89439286e+01 6.60882143e-03 2.97026071e-02\n",
            "  3.79185714e-02 1.47495000e-02 1.92898214e-02 3.97657143e-03\n",
            "  2.02214286e+01 2.84323214e+01 1.34278571e+02 1.25741071e+03\n",
            "  1.37247857e-01 3.14813571e-01 3.78894643e-01 1.63609821e-01\n",
            "  3.10610714e-01 8.48858929e-02]\n",
            " [1.27201081e+01 1.83362703e+01 8.19349730e+01 4.98994054e+02\n",
            "  9.26554054e-02 8.32201081e-02 4.92281946e-02 2.87976595e-02\n",
            "  1.72983784e-01 6.18714054e-02 2.76518378e-01 1.13217946e+00\n",
            "  1.96770703e+00 2.15027405e+01 6.32409730e-03 2.03074324e-02\n",
            "  2.33754481e-02 9.65117838e-03 1.92850811e-02 3.23806216e-03\n",
            "  1.40861622e+01 2.43884324e+01 9.18442162e+01 6.08760541e+02\n",
            "  1.26301676e-01 2.08484270e-01 1.91485427e-01 8.53303297e-02\n",
            "  2.77762703e-01 8.06814054e-02]]\n"
          ]
        }
      ]
    },
    {
      "cell_type": "code",
      "metadata": {
        "colab": {
          "base_uri": "https://localhost:8080/",
          "height": 281
        },
        "id": "Si_Ixli6DgCV",
        "outputId": "827396d5-01d7-4a09-dca7-17fd75a2a6d4"
      },
      "source": [
        "plt.scatter(dataset.data[:, 0], dataset.target, c='orange', marker='*')\n",
        "plt.scatter(kmeans.cluster_centers_[:, 0], kmeans.cluster_centers_[:, 1], c='green', marker='+')\n",
        "plt.title('Data points and cluster centroids')\n",
        "plt.show()"
      ],
      "execution_count": 8,
      "outputs": [
        {
          "output_type": "display_data",
          "data": {
            "image/png": "[encoded data removed]",
            "text/plain": [
              "<Figure size 432x288 with 1 Axes>"
            ]
          },
          "metadata": {
            "needs_background": "light"
          }
        }
      ]
    },
    {
      "cell_type": "code",
      "metadata": {
        "id": "d_CxG_zRDnaM"
      },
      "source": [
        "from scipy.stats import mode\n",
        "labels = np.zeros_like(prediction)\n",
        "for i in range(10):\n",
        "  mask = (prediction == i)\n",
        "  labels[mask] = mode(dataset.target[mask])[0]"
      ],
      "execution_count": 9,
      "outputs": []
    },
    {
      "cell_type": "code",
      "metadata": {
        "colab": {
          "base_uri": "https://localhost:8080/"
        },
        "id": "n2xs4KITEKPd",
        "outputId": "0d5f26bb-944e-4501-fb45-61e77f838f7a"
      },
      "source": [
        "accuracy_score(dataset.target, labels)"
      ],
      "execution_count": 10,
      "outputs": [
        {
          "output_type": "execute_result",
          "data": {
            "text/plain": [
              "0.8822495606326889"
            ]
          },
          "metadata": {},
          "execution_count": 10
        }
      ]
    },
    {
      "cell_type": "code",
      "metadata": {
        "colab": {
          "base_uri": "https://localhost:8080/",
          "height": 296
        },
        "id": "JIVOhUgID18k",
        "outputId": "4f3b7c49-89d9-4251-aa9e-4474bee50e48"
      },
      "source": [
        "import seaborn as sns\n",
        "\n",
        "mat = confusion_matrix(dataset.target, labels)\n",
        "ax = sns.heatmap(mat.T, square=True, annot=True, cbar=False, xticklabels=dataset.target_names, yticklabels=dataset.target_names)\n",
        "\n",
        "plt.xlabel('true label')\n",
        "plt.ylabel('predicted label')"
      ],
      "execution_count": 11,
      "outputs": [
        {
          "output_type": "execute_result",
          "data": {
            "text/plain": [
              "Text(91.68, 0.5, 'predicted label')"
            ]
          },
          "metadata": {},
          "execution_count": 11
        },
        {
          "output_type": "display_data",
          "data": {
            "image/png": "[encoded data removed]",
            "text/plain": [
              "<Figure size 432x288 with 1 Axes>"
            ]
          },
          "metadata": {
            "needs_background": "light"
          }
        }
      ]
    }
  ]
}