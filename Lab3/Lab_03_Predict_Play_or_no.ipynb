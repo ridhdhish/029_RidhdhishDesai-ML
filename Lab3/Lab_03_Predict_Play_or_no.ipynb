{
  "nbformat": 4,
  "nbformat_minor": 0,
  "metadata": {
    "colab": {
      "name": "Lab_03_Predict_Play_or_no.ipynb",
      "provenance": []
    },
    "kernelspec": {
      "name": "python3",
      "display_name": "Python 3"
    },
    "language_info": {
      "name": "python"
    }
  },
  "cells": [
    {
      "cell_type": "code",
      "metadata": {
        "id": "mP0XKGedABrc"
      },
      "source": [
        "import numpy as np\n",
        "import pandas as pd\n",
        "import matplotlib.pyplot as plt\n",
        "from sklearn import datasets, preprocessing\n",
        "from sklearn.naive_bayes import GaussianNB, MultinomialNB"
      ],
      "execution_count": 1,
      "outputs": []
    },
    {
      "cell_type": "code",
      "metadata": {
        "id": "r4_c3BSXALeY"
      },
      "source": [
        "dataset = pd.read_csv(\"Dataset1.csv\")"
      ],
      "execution_count": 2,
      "outputs": []
    },
    {
      "cell_type": "code",
      "metadata": {
        "colab": {
          "base_uri": "https://localhost:8080/"
        },
        "id": "XjupijZsAZcI",
        "outputId": "77adc4d3-b0a5-4621-ad9a-49a216d3e4a9"
      },
      "source": [
        "# labelEncoder Object\n",
        "label_encoder = preprocessing.LabelEncoder()\n",
        "Y_rows=None\n",
        "for data_heading in dataset:\n",
        "  if data_heading!=\"Play\":\n",
        "    print(f\"\\n\\nHeading :- {data_heading}\")\n",
        "    #print(list(dataset[data_heading]))\n",
        "    dummy = pd.get_dummies(dataset[data_heading])\n",
        "    #print(\"\\n\\nDummy :\\n\",dummy)\n",
        "    dataset = dataset.drop([data_heading],axis=1)\n",
        "    dataset = pd.concat([dataset,dummy],axis=1)\n",
        "    #print(\"\\n\\nFinal Data :\\n\",dataset)\n",
        "  else:\n",
        "    Y_rows = label_encoder.fit_transform(dataset[data_heading])\n",
        "    dataset = dataset.drop([data_heading],axis=1)"
      ],
      "execution_count": 3,
      "outputs": [
        {
          "output_type": "stream",
          "name": "stdout",
          "text": [
            "\n",
            "\n",
            "Heading :- Outlook\n",
            "\n",
            "\n",
            "Heading :- Temp\n",
            "\n",
            "\n",
            "Heading :- Humidity\n",
            "\n",
            "\n",
            "Heading :- Wind\n"
          ]
        }
      ]
    },
    {
      "cell_type": "code",
      "metadata": {
        "colab": {
          "base_uri": "https://localhost:8080/"
        },
        "id": "GW0aNIekAcH0",
        "outputId": "3fb4cdfb-0a6d-4633-c205-6883ff1d3045"
      },
      "source": [
        "print(dataset,Y_rows)"
      ],
      "execution_count": 4,
      "outputs": [
        {
          "output_type": "stream",
          "name": "stdout",
          "text": [
            "    O  R  S  C  H  M  High  Low  Normal  F  T\n",
            "0   0  1  0  0  1  0     0    0       1  1  0\n",
            "1   0  1  0  0  1  0     1    0       0  0  1\n",
            "2   1  0  0  0  1  0     0    0       1  1  0\n",
            "3   0  0  1  0  0  1     0    0       1  1  0\n",
            "4   0  0  1  1  0  0     0    0       1  1  0\n",
            "5   0  0  1  1  0  0     0    1       0  0  1\n",
            "6   1  0  0  1  0  0     0    0       1  0  1\n",
            "7   0  1  0  0  0  1     0    0       1  1  0\n",
            "8   0  1  0  1  0  0     0    1       0  1  0\n",
            "9   0  0  1  0  0  1     1    0       0  1  0\n",
            "10  0  1  0  0  0  1     1    0       0  0  1\n",
            "11  1  0  0  0  0  1     0    1       0  0  1\n",
            "12  1  0  0  0  1  0     0    0       1  1  0\n",
            "13  0  0  1  0  0  1     0    0       1  0  1 [0 0 1 1 1 0 1 0 1 1 1 1 1 0]\n"
          ]
        }
      ]
    },
    {
      "cell_type": "code",
      "metadata": {
        "id": "i0OYAQ2lAfhq"
      },
      "source": [
        "from sklearn.model_selection import train_test_split\n",
        "\n",
        "X_train, X_test, Y_train, Y_test = train_test_split(dataset, Y_rows, test_size = 0.30, random_state = 29)"
      ],
      "execution_count": 5,
      "outputs": []
    },
    {
      "cell_type": "code",
      "metadata": {
        "colab": {
          "base_uri": "https://localhost:8080/"
        },
        "id": "gloHdqffAhuo",
        "outputId": "4663f9e4-d75c-4e02-b9c8-9b55d9ed0b88"
      },
      "source": [
        "# create model\n",
        "model = MultinomialNB()\n",
        "model.fit(X_train, Y_train)\n",
        "\n",
        "# Predict Y from X_text\n",
        "Y_predicted = model.predict(X_test)\n",
        "print(X_test)\n",
        "print(Y_predicted)"
      ],
      "execution_count": 6,
      "outputs": [
        {
          "output_type": "stream",
          "name": "stdout",
          "text": [
            "    O  R  S  C  H  M  High  Low  Normal  F  T\n",
            "4   0  0  1  1  0  0     0    0       1  1  0\n",
            "7   0  1  0  0  0  1     0    0       1  1  0\n",
            "6   1  0  0  1  0  0     0    0       1  0  1\n",
            "11  1  0  0  0  0  1     0    1       0  0  1\n",
            "10  0  1  0  0  0  1     1    0       0  0  1\n",
            "[1 1 0 0 0]\n"
          ]
        }
      ]
    },
    {
      "cell_type": "code",
      "metadata": {
        "colab": {
          "base_uri": "https://localhost:8080/"
        },
        "id": "OvcgiBTAAj53",
        "outputId": "3c93ad32-055e-4285-91a5-3d20057bba1b"
      },
      "source": [
        "from sklearn import metrics\n",
        "\n",
        "print(f\"Accuracy is :- {metrics.accuracy_score(Y_test, Y_predicted)}\")\n",
        "\n",
        "# print precision and recall\n",
        "from sklearn.metrics import precision_score\n",
        "from sklearn.metrics import recall_score\n",
        "\n",
        "\n",
        "precision = precision_score(Y_test, Y_predicted)\n",
        "recall = recall_score(Y_test, Y_predicted)\n",
        "\n",
        "\n",
        "print(f\"precision :- {precision}\")\n",
        "print(f\"recall :- {recall}\")"
      ],
      "execution_count": 7,
      "outputs": [
        {
          "output_type": "stream",
          "name": "stdout",
          "text": [
            "Accuracy is :- 0.2\n",
            "precision :- 0.5\n",
            "recall :- 0.25\n"
          ]
        }
      ]
    },
    {
      "cell_type": "code",
      "metadata": {
        "colab": {
          "base_uri": "https://localhost:8080/"
        },
        "id": "fiZUax04Amfr",
        "outputId": "aab03188-2025-4061-c19f-58e622a74476"
      },
      "source": [
        "# Excersice\n",
        "\n",
        "# Temp = \"Hot\" and Weather = \"overcast\"\n",
        "#              1  1  0\n",
        "#Outlook(O,R,S)=0  1  0,\tTemp(C,H,M)=0  1  0,\tHumidity(High,Low,Normal)=0  0 1,\tWind(F,T)=1,0,\tPlay=0\n",
        "output = model.predict([[0,1,0, 0,1,0  ,0,0,1 ,1,0]])\n",
        "print(f\"final prediction :- {output}\")\n",
        "\n",
        "#Overcast , High, Normal, False\n",
        "output = model.predict([[1,0,0  ,0,1,0    ,0,0,1  ,1,0]])\n",
        "print(f\"final prediction :- {output}\")\n",
        "\n",
        "# Excersice\n",
        "# Task1\n",
        "\n",
        "# Overcast, Mild, Normal, True\n",
        "\n",
        "output = model.predict([[1,0,0, 0,0,1 ,0,0,1  ,0,1]])\n",
        "print(f\"final prediction :- {output}\")"
      ],
      "execution_count": 8,
      "outputs": [
        {
          "output_type": "stream",
          "name": "stdout",
          "text": [
            "final prediction :- [1]\n",
            "final prediction :- [1]\n",
            "final prediction :- [1]\n"
          ]
        }
      ]
    }
  ]
}